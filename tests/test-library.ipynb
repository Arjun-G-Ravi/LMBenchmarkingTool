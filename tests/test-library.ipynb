{
 "cells": [
  {
   "cell_type": "code",
   "execution_count": 6,
   "metadata": {},
   "outputs": [],
   "source": [
    "from LMBenchmarkingTool import LLM"
   ]
  },
  {
   "cell_type": "code",
   "execution_count": 7,
   "metadata": {},
   "outputs": [
    {
     "name": "stderr",
     "output_type": "stream",
     "text": [
      "Device set to use cuda\n"
     ]
    }
   ],
   "source": [
    "llm = LLM(\"gpt2\")"
   ]
  },
  {
   "cell_type": "code",
   "execution_count": 8,
   "metadata": {},
   "outputs": [
    {
     "name": "stderr",
     "output_type": "stream",
     "text": [
      "Setting `pad_token_id` to `eos_token_id`:50256 for open-end generation.\n"
     ]
    },
    {
     "name": "stdout",
     "output_type": "stream",
     "text": [
      "What is your name?\n",
      "\n",
      "I'm a guy who's been doing this for a long time. I'm a guy who's been doing this for a long time. I'm a guy who's been doing this for a long time. I'm a guy who's been doing this for a long time. I'm a guy who's been doing this for a long time. I'm a\n"
     ]
    }
   ],
   "source": [
    "print(llm.generate_response('What is your name?'))"
   ]
  },
  {
   "cell_type": "code",
   "execution_count": 9,
   "metadata": {},
   "outputs": [
    {
     "name": "stderr",
     "output_type": "stream",
     "text": [
      "Device set to use cuda\n"
     ]
    }
   ],
   "source": [
    "from LMBenchmarkingTool import Benchmark, LLM\n",
    "model = LLM('Arjun-G-Ravi/chat-GPT2')\n",
    "# benchmark = Benchmark('mmlu')\n",
    "benchmark = Benchmark('hellaswag')"
   ]
  },
  {
   "cell_type": "code",
   "execution_count": 10,
   "metadata": {},
   "outputs": [
    {
     "name": "stdout",
     "output_type": "stream",
     "text": [
      "Hellaswag Benchmarking Started...\n",
      "Total benchmarks: 100\n",
      "Progress: [##################################################] (100/100) 100%\n",
      "\n",
      "BENCHMARKING RESULTS:\n",
      "Total questions: 100\n",
      "Correct Answers 30\n",
      "Hellaswag Benchmarking Score: 30.000\n"
     ]
    }
   ],
   "source": [
    "benchmark.run(model, 100)"
   ]
  }
 ],
 "metadata": {
  "kernelspec": {
   "display_name": "AI_ENV",
   "language": "python",
   "name": "python3"
  },
  "language_info": {
   "codemirror_mode": {
    "name": "ipython",
    "version": 3
   },
   "file_extension": ".py",
   "mimetype": "text/x-python",
   "name": "python",
   "nbconvert_exporter": "python",
   "pygments_lexer": "ipython3",
   "version": "3.10.12"
  }
 },
 "nbformat": 4,
 "nbformat_minor": 2
}
